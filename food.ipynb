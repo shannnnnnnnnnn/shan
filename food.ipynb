{
 "cells": [
  {
   "cell_type": "code",
   "execution_count": 1,
   "id": "da878a8e",
   "metadata": {},
   "outputs": [],
   "source": [
    "import pandas as pd"
   ]
  },
  {
   "cell_type": "code",
   "execution_count": 2,
   "id": "aada16d0",
   "metadata": {},
   "outputs": [],
   "source": [
    "import matplotlib\n",
    "%matplotlib inline"
   ]
  },
  {
   "cell_type": "code",
   "execution_count": 8,
   "id": "15e037ed",
   "metadata": {},
   "outputs": [],
   "source": [
    "path = 'FPSQ.csv'\n",
    "FPSQ = pd.read_csv(path)"
   ]
  },
  {
   "cell_type": "code",
   "execution_count": 9,
   "id": "68039a00",
   "metadata": {},
   "outputs": [
    {
     "data": {
      "text/html": [
       "<div>\n",
       "<style scoped>\n",
       "    .dataframe tbody tr th:only-of-type {\n",
       "        vertical-align: middle;\n",
       "    }\n",
       "\n",
       "    .dataframe tbody tr th {\n",
       "        vertical-align: top;\n",
       "    }\n",
       "\n",
       "    .dataframe thead th {\n",
       "        text-align: right;\n",
       "    }\n",
       "</style>\n",
       "<table border=\"1\" class=\"dataframe\">\n",
       "  <thead>\n",
       "    <tr style=\"text-align: right;\">\n",
       "      <th></th>\n",
       "      <th>Timestamp</th>\n",
       "      <th>What is your name?</th>\n",
       "      <th>What's your favourite food （cuisine）?</th>\n",
       "      <th>Where it originates from？</th>\n",
       "      <th>What does it taste like？</th>\n",
       "    </tr>\n",
       "  </thead>\n",
       "  <tbody>\n",
       "    <tr>\n",
       "      <th>0</th>\n",
       "      <td>2022/11/16 11:57:17 am GMT</td>\n",
       "      <td>Rocio</td>\n",
       "      <td>Duck pancakes</td>\n",
       "      <td>China</td>\n",
       "      <td>Sour</td>\n",
       "    </tr>\n",
       "    <tr>\n",
       "      <th>1</th>\n",
       "      <td>2022/11/16 11:59:18 am GMT</td>\n",
       "      <td>Jiaze Li</td>\n",
       "      <td>rice</td>\n",
       "      <td>south of china</td>\n",
       "      <td>Unknown</td>\n",
       "    </tr>\n",
       "    <tr>\n",
       "      <th>2</th>\n",
       "      <td>2022/11/16 12:37:16 pm GMT</td>\n",
       "      <td>Kat</td>\n",
       "      <td>Pasta</td>\n",
       "      <td>Italy</td>\n",
       "      <td>Spicy</td>\n",
       "    </tr>\n",
       "    <tr>\n",
       "      <th>3</th>\n",
       "      <td>2022/11/16 1:15:47 pm GMT</td>\n",
       "      <td>Tilly</td>\n",
       "      <td>Curry</td>\n",
       "      <td>South Asia</td>\n",
       "      <td>Spicy</td>\n",
       "    </tr>\n",
       "    <tr>\n",
       "      <th>4</th>\n",
       "      <td>2022/11/16 1:36:37 pm GMT</td>\n",
       "      <td>Shi Shi</td>\n",
       "      <td>Hotpot</td>\n",
       "      <td>Sichuan</td>\n",
       "      <td>Spicy</td>\n",
       "    </tr>\n",
       "  </tbody>\n",
       "</table>\n",
       "</div>"
      ],
      "text/plain": [
       "                    Timestamp What is your name?  \\\n",
       "0  2022/11/16 11:57:17 am GMT              Rocio   \n",
       "1  2022/11/16 11:59:18 am GMT           Jiaze Li   \n",
       "2  2022/11/16 12:37:16 pm GMT                Kat   \n",
       "3   2022/11/16 1:15:47 pm GMT              Tilly   \n",
       "4   2022/11/16 1:36:37 pm GMT            Shi Shi   \n",
       "\n",
       "  What's your favourite food （cuisine）? Where it originates from？  \\\n",
       "0                         Duck pancakes                     China   \n",
       "1                                  rice            south of china   \n",
       "2                                 Pasta                     Italy   \n",
       "3                                 Curry               South Asia    \n",
       "4                                Hotpot                   Sichuan   \n",
       "\n",
       "  What does it taste like？  \n",
       "0                     Sour  \n",
       "1                  Unknown  \n",
       "2                    Spicy  \n",
       "3                    Spicy  \n",
       "4                    Spicy  "
      ]
     },
     "execution_count": 9,
     "metadata": {},
     "output_type": "execute_result"
    }
   ],
   "source": [
    "FPSQ.head()"
   ]
  },
  {
   "cell_type": "code",
   "execution_count": 10,
   "id": "8e8cbb26",
   "metadata": {},
   "outputs": [
    {
     "data": {
      "text/html": [
       "<div>\n",
       "<style scoped>\n",
       "    .dataframe tbody tr th:only-of-type {\n",
       "        vertical-align: middle;\n",
       "    }\n",
       "\n",
       "    .dataframe tbody tr th {\n",
       "        vertical-align: top;\n",
       "    }\n",
       "\n",
       "    .dataframe thead th {\n",
       "        text-align: right;\n",
       "    }\n",
       "</style>\n",
       "<table border=\"1\" class=\"dataframe\">\n",
       "  <thead>\n",
       "    <tr style=\"text-align: right;\">\n",
       "      <th></th>\n",
       "      <th>Timestamp</th>\n",
       "      <th>What is your name?</th>\n",
       "      <th>What's your favourite food （cuisine）?</th>\n",
       "      <th>Where it originates from？</th>\n",
       "      <th>What does it taste like？</th>\n",
       "    </tr>\n",
       "  </thead>\n",
       "  <tbody>\n",
       "    <tr>\n",
       "      <th>2</th>\n",
       "      <td>2022/11/16 12:37:16 pm GMT</td>\n",
       "      <td>Kat</td>\n",
       "      <td>Pasta</td>\n",
       "      <td>Italy</td>\n",
       "      <td>Spicy</td>\n",
       "    </tr>\n",
       "    <tr>\n",
       "      <th>3</th>\n",
       "      <td>2022/11/16 1:15:47 pm GMT</td>\n",
       "      <td>Tilly</td>\n",
       "      <td>Curry</td>\n",
       "      <td>South Asia</td>\n",
       "      <td>Spicy</td>\n",
       "    </tr>\n",
       "    <tr>\n",
       "      <th>4</th>\n",
       "      <td>2022/11/16 1:36:37 pm GMT</td>\n",
       "      <td>Shi Shi</td>\n",
       "      <td>Hotpot</td>\n",
       "      <td>Sichuan</td>\n",
       "      <td>Spicy</td>\n",
       "    </tr>\n",
       "    <tr>\n",
       "      <th>5</th>\n",
       "      <td>2022/11/16 1:44:06 pm GMT</td>\n",
       "      <td>Jana</td>\n",
       "      <td>Chinese</td>\n",
       "      <td>China</td>\n",
       "      <td>Spicy</td>\n",
       "    </tr>\n",
       "    <tr>\n",
       "      <th>6</th>\n",
       "      <td>2022/11/16 2:13:45 pm GMT</td>\n",
       "      <td>Dara</td>\n",
       "      <td>Pounded Yam and Okra soup</td>\n",
       "      <td>Nigeria</td>\n",
       "      <td>Spicy</td>\n",
       "    </tr>\n",
       "    <tr>\n",
       "      <th>7</th>\n",
       "      <td>2022/11/16 2:30:10 pm GMT</td>\n",
       "      <td>Jade</td>\n",
       "      <td>Italian</td>\n",
       "      <td>Italy</td>\n",
       "      <td>Spicy</td>\n",
       "    </tr>\n",
       "    <tr>\n",
       "      <th>8</th>\n",
       "      <td>2022/11/16 5:28:13 pm GMT</td>\n",
       "      <td>Wen</td>\n",
       "      <td>Asian</td>\n",
       "      <td>Taiwan</td>\n",
       "      <td>Salty, spicy, sour</td>\n",
       "    </tr>\n",
       "    <tr>\n",
       "      <th>9</th>\n",
       "      <td>2022/11/16 8:27:38 pm GMT</td>\n",
       "      <td>Adele</td>\n",
       "      <td>Grilled chicken</td>\n",
       "      <td>Universal</td>\n",
       "      <td>Spicy</td>\n",
       "    </tr>\n",
       "  </tbody>\n",
       "</table>\n",
       "</div>"
      ],
      "text/plain": [
       "                    Timestamp What is your name?  \\\n",
       "2  2022/11/16 12:37:16 pm GMT                Kat   \n",
       "3   2022/11/16 1:15:47 pm GMT              Tilly   \n",
       "4   2022/11/16 1:36:37 pm GMT            Shi Shi   \n",
       "5   2022/11/16 1:44:06 pm GMT               Jana   \n",
       "6   2022/11/16 2:13:45 pm GMT               Dara   \n",
       "7   2022/11/16 2:30:10 pm GMT               Jade   \n",
       "8   2022/11/16 5:28:13 pm GMT                Wen   \n",
       "9   2022/11/16 8:27:38 pm GMT              Adele   \n",
       "\n",
       "  What's your favourite food （cuisine）? Where it originates from？  \\\n",
       "2                                 Pasta                     Italy   \n",
       "3                                 Curry               South Asia    \n",
       "4                                Hotpot                   Sichuan   \n",
       "5                               Chinese                     China   \n",
       "6             Pounded Yam and Okra soup                   Nigeria   \n",
       "7                               Italian                     Italy   \n",
       "8                                 Asian                    Taiwan   \n",
       "9                      Grilled chicken                  Universal   \n",
       "\n",
       "  What does it taste like？  \n",
       "2                    Spicy  \n",
       "3                    Spicy  \n",
       "4                    Spicy  \n",
       "5                    Spicy  \n",
       "6                    Spicy  \n",
       "7                    Spicy  \n",
       "8       Salty, spicy, sour  \n",
       "9                    Spicy  "
      ]
     },
     "execution_count": 10,
     "metadata": {},
     "output_type": "execute_result"
    }
   ],
   "source": [
    "FPSQ[2:10]"
   ]
  },
  {
   "cell_type": "code",
   "execution_count": 11,
   "id": "d475d8e0",
   "metadata": {},
   "outputs": [
    {
     "data": {
      "text/plain": [
       "Index(['Timestamp', 'What is your name?',\n",
       "       'What's your favourite food （cuisine）?', 'Where it originates from？',\n",
       "       'What does it taste like？'],\n",
       "      dtype='object')"
      ]
     },
     "execution_count": 11,
     "metadata": {},
     "output_type": "execute_result"
    }
   ],
   "source": [
    "FPSQ.columns"
   ]
  },
  {
   "cell_type": "code",
   "execution_count": 14,
   "id": "a3ce5b4d",
   "metadata": {},
   "outputs": [
    {
     "name": "stdout",
     "output_type": "stream",
     "text": [
      "Object `name` not found.\n"
     ]
    }
   ],
   "source": [
    "FPSQ.What is your name?"
   ]
  },
  {
   "cell_type": "code",
   "execution_count": 15,
   "id": "a80627df",
   "metadata": {},
   "outputs": [
    {
     "ename": "SyntaxError",
     "evalue": "invalid syntax. Perhaps you forgot a comma? (1496890300.py, line 1)",
     "output_type": "error",
     "traceback": [
      "\u001b[1;36m  Cell \u001b[1;32mIn [15], line 1\u001b[1;36m\u001b[0m\n\u001b[1;33m    FPSQ.loc[What is your name?.name == 'ShiShi']\u001b[0m\n\u001b[1;37m             ^\u001b[0m\n\u001b[1;31mSyntaxError\u001b[0m\u001b[1;31m:\u001b[0m invalid syntax. Perhaps you forgot a comma?\n"
     ]
    }
   ],
   "source": [
    "FPSQ.loc[What is your name?.name == 'ShiShi']"
   ]
  },
  {
   "cell_type": "code",
   "execution_count": null,
   "id": "551b8fce",
   "metadata": {},
   "outputs": [],
   "source": []
  }
 ],
 "metadata": {
  "kernelspec": {
   "display_name": "Python 3 (ipykernel)",
   "language": "python",
   "name": "python3"
  },
  "language_info": {
   "codemirror_mode": {
    "name": "ipython",
    "version": 3
   },
   "file_extension": ".py",
   "mimetype": "text/x-python",
   "name": "python",
   "nbconvert_exporter": "python",
   "pygments_lexer": "ipython3",
   "version": "3.11.0"
  }
 },
 "nbformat": 4,
 "nbformat_minor": 5
}
